{
  "nbformat": 4,
  "nbformat_minor": 0,
  "metadata": {
    "colab": {
      "provenance": [],
      "gpuType": "T4"
    },
    "kernelspec": {
      "name": "python3",
      "display_name": "Python 3"
    },
    "language_info": {
      "name": "python"
    },
    "accelerator": "GPU"
  },
  "cells": [
    {
      "cell_type": "code",
      "execution_count": null,
      "metadata": {
        "colab": {
          "base_uri": "https://localhost:8080/"
        },
        "id": "P7jeuittS_Hn",
        "outputId": "ffb34c28-73dc-4509-cae6-b82d24163178"
      },
      "outputs": [
        {
          "output_type": "stream",
          "name": "stdout",
          "text": [
            "Using device: cuda:0\n"
          ]
        }
      ],
      "source": [
        "!pip install kagglehub --quiet\n",
        "\n",
        "\n",
        "import os\n",
        "import time\n",
        "import numpy as np\n",
        "import matplotlib.pyplot as plt\n",
        "from PIL import Image\n",
        "\n",
        "from sklearn.metrics import classification_report, accuracy_score, precision_score, recall_score\n",
        "\n",
        "import torch\n",
        "import torch.nn as nn\n",
        "import torch.optim as optim\n",
        "import torchvision\n",
        "import torchvision.transforms as transforms\n",
        "import torchvision.models as models\n",
        "from torch.utils.data import DataLoader\n",
        "\n",
        "device = torch.device(\"cuda:0\" if torch.cuda.is_available() else \"cpu\")\n",
        "print(\"Using device:\", device)\n"
      ]
    },
    {
      "cell_type": "code",
      "source": [
        "import kagglehub\n",
        "\n",
        "dataset_path = kagglehub.dataset_download(\"jutrera/stanford-car-dataset-by-classes-folder\")\n",
        "print(\"Dataset downloaded to:\", dataset_path)\n"
      ],
      "metadata": {
        "colab": {
          "base_uri": "https://localhost:8080/"
        },
        "id": "VNq3oV5WTVeI",
        "outputId": "f7a1dc27-dfe7-420b-d700-6d10b0e12c84"
      },
      "execution_count": null,
      "outputs": [
        {
          "output_type": "stream",
          "name": "stdout",
          "text": [
            "Dataset downloaded to: /kaggle/input/stanford-car-dataset-by-classes-folder\n"
          ]
        }
      ]
    },
    {
      "cell_type": "code",
      "source": [
        "train_tfms = transforms.Compose([\n",
        "    transforms.Resize((400, 400)),\n",
        "    transforms.RandomHorizontalFlip(),\n",
        "    transforms.RandomRotation(15),\n",
        "    transforms.ToTensor(),\n",
        "    transforms.Normalize((0.5, 0.5, 0.5), (0.5, 0.5, 0.5))\n",
        "])\n",
        "\n",
        "test_tfms = transforms.Compose([\n",
        "    transforms.Resize((400, 400)),\n",
        "    transforms.ToTensor(),\n",
        "    transforms.Normalize((0.5, 0.5, 0.5), (0.5, 0.5, 0.5))\n",
        "])\n",
        "\n",
        "\n",
        "train_dir = os.path.join(dataset_path, \"car_data/car_data/train\")\n",
        "test_dir = os.path.join(dataset_path, \"car_data/car_data/test\")\n",
        "\n",
        "\n",
        "train_dataset = torchvision.datasets.ImageFolder(root=train_dir, transform=train_tfms)\n",
        "test_dataset = torchvision.datasets.ImageFolder(root=test_dir, transform=test_tfms)\n",
        "\n",
        "train_loader = DataLoader(train_dataset, batch_size=32, shuffle=True, num_workers=2)\n",
        "test_loader = DataLoader(test_dataset, batch_size=32, shuffle=False, num_workers=2)\n",
        "\n",
        "classes = train_dataset.classes\n",
        "print(\"Number of classes:\", len(classes))\n"
      ],
      "metadata": {
        "colab": {
          "base_uri": "https://localhost:8080/"
        },
        "id": "9Z7uAck0ThG9",
        "outputId": "4b056307-46e3-40d8-e5ea-a6eb328c49a1"
      },
      "execution_count": null,
      "outputs": [
        {
          "output_type": "stream",
          "name": "stdout",
          "text": [
            "Number of classes: 196\n"
          ]
        }
      ]
    },
    {
      "cell_type": "code",
      "source": [
        "def get_model(num_classes=196):\n",
        "    model = models.resnet50(pretrained=True)\n",
        "    num_ftrs = model.fc.in_features\n",
        "    model.fc = nn.Linear(num_ftrs, num_classes)\n",
        "    return model.to(device)\n"
      ],
      "metadata": {
        "id": "wbuuDQ1l3MSZ"
      },
      "execution_count": null,
      "outputs": []
    },
    {
      "cell_type": "code",
      "source": [
        "def eval_model(model, data_loader):\n",
        "    model.eval()\n",
        "    correct, total = 0, 0\n",
        "    all_preds, all_labels = [], []\n",
        "\n",
        "    with torch.no_grad():\n",
        "        for inputs, labels in data_loader:\n",
        "            inputs, labels = inputs.to(device), labels.to(device)\n",
        "            outputs = model(inputs)\n",
        "            _, preds = torch.max(outputs, 1)\n",
        "\n",
        "            all_preds.extend(preds.cpu().numpy())\n",
        "            all_labels.extend(labels.cpu().numpy())\n",
        "\n",
        "            correct += (preds == labels).sum().item()\n",
        "            total += labels.size(0)\n",
        "\n",
        "    acc = accuracy_score(all_labels, all_preds) * 100\n",
        "    prec = precision_score(all_labels, all_preds, average='macro')\n",
        "    rec = recall_score(all_labels, all_preds, average='macro')\n",
        "\n",
        "    return acc, prec, rec\n"
      ],
      "metadata": {
        "id": "cvtvzkaM3OVk"
      },
      "execution_count": null,
      "outputs": []
    },
    {
      "cell_type": "code",
      "source": [
        "def train_model(model, criterion, optimizer, scheduler, n_epochs=50, patience=5):\n",
        "    best_acc = 0\n",
        "    patience_counter = 0\n",
        "    history = {'train_loss': [], 'train_acc': [], 'val_acc': [], 'val_precision': [], 'val_recall': []}\n",
        "\n",
        "    for epoch in range(n_epochs):\n",
        "        model.train()\n",
        "        running_loss, correct, total = 0.0, 0, 0\n",
        "\n",
        "        for inputs, labels in train_loader:\n",
        "            inputs, labels = inputs.to(device), labels.to(device)\n",
        "            optimizer.zero_grad()\n",
        "\n",
        "            outputs = model(inputs)\n",
        "            loss = criterion(outputs, labels)\n",
        "            loss.backward()\n",
        "            optimizer.step()\n",
        "\n",
        "            running_loss += loss.item()\n",
        "            _, preds = torch.max(outputs, 1)\n",
        "            correct += (preds == labels).sum().item()\n",
        "            total += labels.size(0)\n",
        "\n",
        "        train_acc = correct / total * 100\n",
        "        val_acc, val_prec, val_rec = eval_model(model, test_loader)\n",
        "\n",
        "        print(f\"Epoch {epoch+1}/{n_epochs} | Loss: {running_loss:.4f} | Train Acc: {train_acc:.2f}% | \"\n",
        "              f\"Val Acc: {val_acc:.2f}% | Precision: {val_prec:.2f} | Recall: {val_rec:.2f}\")\n",
        "\n",
        "\n",
        "        history['train_loss'].append(running_loss)\n",
        "        history['train_acc'].append(train_acc)\n",
        "        history['val_acc'].append(val_acc)\n",
        "        history['val_precision'].append(val_prec)\n",
        "        history['val_recall'].append(val_rec)\n",
        "\n",
        "        scheduler.step(val_acc)\n",
        "\n",
        "\n",
        "        if val_acc > best_acc:\n",
        "            best_acc = val_acc\n",
        "            patience_counter = 0\n",
        "            best_model_state = model.state_dict()\n",
        "        else:\n",
        "            patience_counter += 1\n",
        "            if patience_counter >= patience:\n",
        "                print(\"Early stopping triggered.\")\n",
        "                break\n",
        "\n",
        "    model.load_state_dict(best_model_state)\n",
        "    return model, history\n"
      ],
      "metadata": {
        "id": "oxWPh3_43Rg0"
      },
      "execution_count": null,
      "outputs": []
    },
    {
      "cell_type": "code",
      "source": [
        "# Initialize model, criterion, optimizer, scheduler\n",
        "model = get_model(num_classes=len(classes))\n",
        "criterion = nn.CrossEntropyLoss()\n",
        "optimizer = optim.Adam(model.parameters(), lr=1e-4)\n",
        "scheduler = optim.lr_scheduler.ReduceLROnPlateau(optimizer, mode='max', factor=0.1, patience=3)\n",
        "\n",
        "model, history = train_model(model, criterion, optimizer, scheduler, n_epochs=50, patience=5)\n",
        "\n",
        "model_path = \"best_car_model.pth\"\n",
        "torch.save(model.state_dict(), model_path)\n",
        "print(f\"Model saved to: {model_path}\")\n"
      ],
      "metadata": {
        "colab": {
          "base_uri": "https://localhost:8080/"
        },
        "id": "Z6LMZoDl3jBp",
        "outputId": "3a8066d9-bd12-42b2-f15c-e9f39db45c50"
      },
      "execution_count": null,
      "outputs": [
        {
          "metadata": {
            "tags": null
          },
          "name": "stderr",
          "output_type": "stream",
          "text": [
            "/usr/local/lib/python3.11/dist-packages/torchvision/models/_utils.py:208: UserWarning: The parameter 'pretrained' is deprecated since 0.13 and may be removed in the future, please use 'weights' instead.\n",
            "  warnings.warn(\n",
            "/usr/local/lib/python3.11/dist-packages/torchvision/models/_utils.py:223: UserWarning: Arguments other than a weight enum or `None` for 'weights' are deprecated since 0.13 and may be removed in the future. The current behavior is equivalent to passing `weights=ResNet50_Weights.IMAGENET1K_V1`. You can also use `weights=ResNet50_Weights.DEFAULT` to get the most up-to-date weights.\n",
            "  warnings.warn(msg)\n",
            "Downloading: \"https://download.pytorch.org/models/resnet50-0676ba61.pth\" to /root/.cache/torch/hub/checkpoints/resnet50-0676ba61.pth\n",
            "100%|██████████| 97.8M/97.8M [00:01<00:00, 73.0MB/s]\n"
          ]
        },
        {
          "metadata": {
            "tags": null
          },
          "name": "stdout",
          "output_type": "stream",
          "text": [
            "Epoch 1/50 | Loss: 1126.3036 | Train Acc: 12.46% | Val Acc: 29.72% | Precision: 0.37 | Recall: 0.29\n"
          ]
        },
        {
          "metadata": {
            "tags": null
          },
          "name": "stderr",
          "output_type": "stream",
          "text": [
            "/usr/local/lib/python3.11/dist-packages/sklearn/metrics/_classification.py:1565: UndefinedMetricWarning: Precision is ill-defined and being set to 0.0 in labels with no predicted samples. Use `zero_division` parameter to control this behavior.\n",
            "  _warn_prf(average, modifier, f\"{metric.capitalize()} is\", len(result))\n"
          ]
        },
        {
          "metadata": {
            "tags": null
          },
          "name": "stdout",
          "output_type": "stream",
          "text": [
            "Epoch 2/50 | Loss: 625.7504 | Train Acc: 48.44% | Val Acc: 64.00% | Precision: 0.70 | Recall: 0.63\n"
          ]
        },
        {
          "metadata": {
            "tags": null
          },
          "name": "stderr",
          "output_type": "stream",
          "text": [
            "/usr/local/lib/python3.11/dist-packages/sklearn/metrics/_classification.py:1565: UndefinedMetricWarning: Precision is ill-defined and being set to 0.0 in labels with no predicted samples. Use `zero_division` parameter to control this behavior.\n",
            "  _warn_prf(average, modifier, f\"{metric.capitalize()} is\", len(result))\n"
          ]
        },
        {
          "metadata": {
            "tags": null
          },
          "name": "stdout",
          "output_type": "stream",
          "text": [
            "Epoch 3/50 | Loss: 337.6610 | Train Acc: 74.47% | Val Acc: 73.83% | Precision: 0.78 | Recall: 0.73\n"
          ]
        },
        {
          "metadata": {
            "tags": null
          },
          "name": "stderr",
          "output_type": "stream",
          "text": [
            "/usr/local/lib/python3.11/dist-packages/sklearn/metrics/_classification.py:1565: UndefinedMetricWarning: Precision is ill-defined and being set to 0.0 in labels with no predicted samples. Use `zero_division` parameter to control this behavior.\n",
            "  _warn_prf(average, modifier, f\"{metric.capitalize()} is\", len(result))\n"
          ]
        },
        {
          "metadata": {
            "tags": null
          },
          "name": "stdout",
          "output_type": "stream",
          "text": [
            "Epoch 4/50 | Loss: 192.2540 | Train Acc: 85.81% | Val Acc: 82.33% | Precision: 0.85 | Recall: 0.82\n"
          ]
        },
        {
          "metadata": {
            "tags": null
          },
          "name": "stderr",
          "output_type": "stream",
          "text": [
            "/usr/local/lib/python3.11/dist-packages/sklearn/metrics/_classification.py:1565: UndefinedMetricWarning: Precision is ill-defined and being set to 0.0 in labels with no predicted samples. Use `zero_division` parameter to control this behavior.\n",
            "  _warn_prf(average, modifier, f\"{metric.capitalize()} is\", len(result))\n"
          ]
        },
        {
          "metadata": {
            "tags": null
          },
          "name": "stdout",
          "output_type": "stream",
          "text": [
            "Epoch 5/50 | Loss: 119.9413 | Train Acc: 91.43% | Val Acc: 83.58% | Precision: 0.86 | Recall: 0.84\n"
          ]
        },
        {
          "metadata": {
            "tags": null
          },
          "name": "stderr",
          "output_type": "stream",
          "text": [
            "/usr/local/lib/python3.11/dist-packages/sklearn/metrics/_classification.py:1565: UndefinedMetricWarning: Precision is ill-defined and being set to 0.0 in labels with no predicted samples. Use `zero_division` parameter to control this behavior.\n",
            "  _warn_prf(average, modifier, f\"{metric.capitalize()} is\", len(result))\n"
          ]
        },
        {
          "metadata": {
            "tags": null
          },
          "name": "stdout",
          "output_type": "stream",
          "text": [
            "Epoch 6/50 | Loss: 79.8807 | Train Acc: 94.35% | Val Acc: 85.77% | Precision: 0.88 | Recall: 0.86\n",
            "Epoch 7/50 | Loss: 56.5412 | Train Acc: 96.18% | Val Acc: 87.51% | Precision: 0.89 | Recall: 0.88\n"
          ]
        },
        {
          "metadata": {
            "tags": null
          },
          "name": "stderr",
          "output_type": "stream",
          "text": [
            "/usr/local/lib/python3.11/dist-packages/sklearn/metrics/_classification.py:1565: UndefinedMetricWarning: Precision is ill-defined and being set to 0.0 in labels with no predicted samples. Use `zero_division` parameter to control this behavior.\n",
            "  _warn_prf(average, modifier, f\"{metric.capitalize()} is\", len(result))\n"
          ]
        },
        {
          "output_type": "stream",
          "name": "stdout",
          "text": [
            "Epoch 8/50 | Loss: 41.7646 | Train Acc: 96.91% | Val Acc: 88.19% | Precision: 0.89 | Recall: 0.88\n",
            "Epoch 9/50 | Loss: 33.8120 | Train Acc: 97.59% | Val Acc: 87.68% | Precision: 0.90 | Recall: 0.88\n",
            "Epoch 10/50 | Loss: 30.4349 | Train Acc: 97.67% | Val Acc: 89.07% | Precision: 0.90 | Recall: 0.89\n",
            "Epoch 11/50 | Loss: 25.6094 | Train Acc: 98.05% | Val Acc: 88.11% | Precision: 0.90 | Recall: 0.88\n",
            "Epoch 12/50 | Loss: 21.9559 | Train Acc: 98.32% | Val Acc: 89.49% | Precision: 0.90 | Recall: 0.89\n",
            "Epoch 13/50 | Loss: 23.4769 | Train Acc: 98.08% | Val Acc: 85.30% | Precision: 0.88 | Recall: 0.85\n",
            "Epoch 14/50 | Loss: 25.9982 | Train Acc: 98.12% | Val Acc: 86.30% | Precision: 0.88 | Recall: 0.86\n",
            "Epoch 15/50 | Loss: 21.8371 | Train Acc: 98.16% | Val Acc: 86.99% | Precision: 0.88 | Recall: 0.87\n",
            "Epoch 16/50 | Loss: 18.6948 | Train Acc: 98.44% | Val Acc: 87.12% | Precision: 0.89 | Recall: 0.87\n",
            "Epoch 17/50 | Loss: 8.0040 | Train Acc: 99.51% | Val Acc: 91.67% | Precision: 0.92 | Recall: 0.92\n",
            "Epoch 18/50 | Loss: 5.0179 | Train Acc: 99.72% | Val Acc: 92.07% | Precision: 0.92 | Recall: 0.92\n",
            "Epoch 19/50 | Loss: 4.2576 | Train Acc: 99.77% | Val Acc: 92.14% | Precision: 0.92 | Recall: 0.92\n",
            "Epoch 20/50 | Loss: 4.0323 | Train Acc: 99.73% | Val Acc: 92.20% | Precision: 0.92 | Recall: 0.92\n",
            "Epoch 21/50 | Loss: 3.7234 | Train Acc: 99.78% | Val Acc: 92.24% | Precision: 0.92 | Recall: 0.92\n",
            "Epoch 22/50 | Loss: 2.9633 | Train Acc: 99.80% | Val Acc: 92.58% | Precision: 0.93 | Recall: 0.93\n",
            "Epoch 23/50 | Loss: 3.4445 | Train Acc: 99.77% | Val Acc: 92.75% | Precision: 0.93 | Recall: 0.93\n",
            "Epoch 24/50 | Loss: 3.0130 | Train Acc: 99.75% | Val Acc: 92.60% | Precision: 0.93 | Recall: 0.93\n",
            "Epoch 25/50 | Loss: 2.5438 | Train Acc: 99.78% | Val Acc: 92.65% | Precision: 0.93 | Recall: 0.93\n",
            "Epoch 26/50 | Loss: 2.3547 | Train Acc: 99.79% | Val Acc: 92.54% | Precision: 0.93 | Recall: 0.92\n",
            "Epoch 27/50 | Loss: 2.5250 | Train Acc: 99.72% | Val Acc: 92.97% | Precision: 0.93 | Recall: 0.93\n",
            "Epoch 28/50 | Loss: 2.4574 | Train Acc: 99.74% | Val Acc: 92.97% | Precision: 0.93 | Recall: 0.93\n",
            "Epoch 29/50 | Loss: 2.1337 | Train Acc: 99.79% | Val Acc: 93.00% | Precision: 0.93 | Recall: 0.93\n",
            "Epoch 30/50 | Loss: 2.5934 | Train Acc: 99.77% | Val Acc: 92.85% | Precision: 0.93 | Recall: 0.93\n",
            "Epoch 31/50 | Loss: 2.1663 | Train Acc: 99.79% | Val Acc: 92.76% | Precision: 0.93 | Recall: 0.93\n",
            "Epoch 32/50 | Loss: 2.1811 | Train Acc: 99.75% | Val Acc: 92.75% | Precision: 0.93 | Recall: 0.93\n",
            "Epoch 33/50 | Loss: 1.9047 | Train Acc: 99.80% | Val Acc: 92.79% | Precision: 0.93 | Recall: 0.93\n",
            "Epoch 34/50 | Loss: 1.6424 | Train Acc: 99.86% | Val Acc: 92.95% | Precision: 0.93 | Recall: 0.93\n",
            "Early stopping triggered.\n",
            "Model saved to: best_car_model.pth\n"
          ]
        }
      ]
    },
    {
      "cell_type": "code",
      "source": [
        "from PIL import Image\n",
        "import torch.nn.functional as F\n",
        "\n",
        "def predict_image(image_path, model, transform, class_names):\n",
        "    model.eval()\n",
        "    img = Image.open(image_path).convert('RGB')\n",
        "    img_tensor = transform(img).unsqueeze(0).to(device)\n",
        "\n",
        "    with torch.no_grad():\n",
        "        outputs = model(img_tensor)\n",
        "        probs = F.softmax(outputs, dim=1)\n",
        "        confidence, pred_class = torch.max(probs, 1)\n",
        "\n",
        "    predicted_label = class_names[pred_class.item()]\n",
        "    confidence_percent = confidence.item() * 100\n",
        "\n",
        "    print(f\"Prediction: {predicted_label} | Confidence: {confidence_percent:.2f}%\")\n"
      ],
      "metadata": {
        "id": "IaosCAkg3mlZ"
      },
      "execution_count": null,
      "outputs": []
    },
    {
      "cell_type": "code",
      "source": [
        "image_paths = [\n",
        "    \"/kaggle/input/stanford-car-dataset-by-classes-folder/car_data/car_data/test/AM General Hummer SUV 2000/00076.jpg\",\n",
        "    \"/kaggle/input/stanford-car-dataset-by-classes-folder/car_data/car_data/test/Acura ZDX Hatchback 2012/00036.jpg\",\n",
        "    \"/kaggle/input/stanford-car-dataset-by-classes-folder/car_data/car_data/test/Jaguar XK XKR 2012/00525.jpg\",\n",
        "    \"/kaggle/input/stanford-car-dataset-by-classes-folder/car_data/car_data/test/Dodge Dakota Club Cab 2007/01462.jpg\",\n",
        "    \"/kaggle/input/stanford-car-dataset-by-classes-folder/car_data/car_data/test/Mercedes-Benz SL-Class Coupe 2009/01773.jpg\",\n",
        "    \"/kaggle/input/stanford-car-dataset-by-classes-folder/car_data/car_data/test/Toyota 4Runner SUV 2012/01272.jpg\",\n",
        "    \"/kaggle/input/stanford-car-dataset-by-classes-folder/car_data/car_data/test/Tesla Model S Sedan 2012/04710.jpg\",\n",
        "    \"/kaggle/input/stanford-car-dataset-by-classes-folder/car_data/car_data/test/Porsche Panamera Sedan 2012/01062.jpg\",\n",
        "    \"/content/pr pa.jpg\"\n",
        "]\n",
        "\n",
        "for path in image_paths:\n",
        "    predict_image(path, model, test_tfms, classes)\n"
      ],
      "metadata": {
        "colab": {
          "base_uri": "https://localhost:8080/"
        },
        "id": "sd_AT2_Hr-n0",
        "outputId": "df015160-64b0-477c-a638-107e69f85d4a"
      },
      "execution_count": null,
      "outputs": [
        {
          "output_type": "stream",
          "name": "stdout",
          "text": [
            "Prediction: AM General Hummer SUV 2000 | Confidence: 99.95%\n",
            "Prediction: Acura ZDX Hatchback 2012 | Confidence: 100.00%\n",
            "Prediction: Jaguar XK XKR 2012 | Confidence: 99.31%\n",
            "Prediction: Dodge Dakota Club Cab 2007 | Confidence: 99.91%\n",
            "Prediction: Mercedes-Benz SL-Class Coupe 2009 | Confidence: 95.62%\n",
            "Prediction: Toyota 4Runner SUV 2012 | Confidence: 99.95%\n",
            "Prediction: Tesla Model S Sedan 2012 | Confidence: 99.02%\n",
            "Prediction: Porsche Panamera Sedan 2012 | Confidence: 99.98%\n",
            "Prediction: Porsche Panamera Sedan 2012 | Confidence: 99.38%\n"
          ]
        }
      ]
    }
  ]
}